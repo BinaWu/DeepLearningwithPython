{
  "nbformat": 4,
  "nbformat_minor": 0,
  "metadata": {
    "colab": {
      "name": "session8_Text_Practice.ipynb",
      "version": "0.3.2",
      "provenance": [],
      "include_colab_link": true
    },
    "kernelspec": {
      "name": "python3",
      "display_name": "Python 3"
    },
    "accelerator": "GPU"
  },
  "cells": [
    {
      "cell_type": "markdown",
      "metadata": {
        "id": "view-in-github",
        "colab_type": "text"
      },
      "source": [
        "<a href=\"https://colab.research.google.com/github/eathon/DeepLearningwithPython/blob/master/session8_Text_Practice.ipynb\" target=\"_parent\"><img src=\"https://colab.research.google.com/assets/colab-badge.svg\" alt=\"Open In Colab\"/></a>"
      ]
    },
    {
      "metadata": {
        "id": "9KGp-KTLjqKL",
        "colab_type": "text"
      },
      "cell_type": "markdown",
      "source": [
        "# Before we start..."
      ]
    },
    {
      "metadata": {
        "id": "Eklordt4jqKO",
        "colab_type": "code",
        "colab": {
          "base_uri": "https://localhost:8080/",
          "height": 34
        },
        "outputId": "08f363b2-a6f1-4636-8de5-e6ecc116be06"
      },
      "cell_type": "code",
      "source": [
        "import urllib\n",
        "\n",
        "imdb_url = 'http://ai.stanford.edu/~amaas/data/sentiment/aclImdb_v1.tar.gz'\n",
        "urllib.request.urlretrieve(imdb_url, './aclImdb_v1.tar.gz') "
      ],
      "execution_count": 30,
      "outputs": [
        {
          "output_type": "execute_result",
          "data": {
            "text/plain": [
              "('./aclImdb_v1.tar.gz', <http.client.HTTPMessage at 0x7f410b743fd0>)"
            ]
          },
          "metadata": {
            "tags": []
          },
          "execution_count": 30
        }
      ]
    },
    {
      "metadata": {
        "id": "KauQP9u2jqKW",
        "colab_type": "code",
        "colab": {
          "base_uri": "https://localhost:8080/",
          "height": 34
        },
        "outputId": "e4b0e7b3-4dd9-4414-eb7a-6c74ead2d3bb"
      },
      "cell_type": "code",
      "source": [
        "glove_url = 'http://nlp.stanford.edu/data/glove.6B.zip'\n",
        "urllib.request.urlretrieve(glove_url, './glove.6B.zip')"
      ],
      "execution_count": 31,
      "outputs": [
        {
          "output_type": "execute_result",
          "data": {
            "text/plain": [
              "('./glove.6B.zip', <http.client.HTTPMessage at 0x7f410b7444e0>)"
            ]
          },
          "metadata": {
            "tags": []
          },
          "execution_count": 31
        }
      ]
    },
    {
      "metadata": {
        "id": "_ovPTq7fjqKa",
        "colab_type": "code",
        "colab": {}
      },
      "cell_type": "code",
      "source": [
        "imdb_dir = './aclImdb'\n",
        "glove_dir = './glove.6B'"
      ],
      "execution_count": 0,
      "outputs": []
    },
    {
      "metadata": {
        "id": "BjkzinY0jqKd",
        "colab_type": "code",
        "colab": {}
      },
      "cell_type": "code",
      "source": [
        "import tarfile\n",
        "tar = tarfile.open('./aclImdb_v1.tar.gz', \"r:gz\")\n",
        "tar.extractall()\n",
        "tar.close()"
      ],
      "execution_count": 0,
      "outputs": []
    },
    {
      "metadata": {
        "id": "cfetxDW9jqKg",
        "colab_type": "code",
        "colab": {}
      },
      "cell_type": "code",
      "source": [
        "import zipfile\n",
        "import os\n",
        "if not os.path.exists(glove_dir):\n",
        "    os.mkdir(glove_dir)\n",
        "zip_ref = zipfile.ZipFile('./glove.6B.zip', 'r')\n",
        "zip_ref.extractall(glove_dir)\n",
        "zip_ref.close()"
      ],
      "execution_count": 0,
      "outputs": []
    },
    {
      "metadata": {
        "id": "cptsBV3UjqKj",
        "colab_type": "text"
      },
      "cell_type": "markdown",
      "source": [
        "# Text-Preprocessing"
      ]
    },
    {
      "metadata": {
        "id": "7cc1pZ1qjqKk",
        "colab_type": "code",
        "colab": {}
      },
      "cell_type": "code",
      "source": [
        "train_dir = os.path.join(imdb_dir, 'train')\n",
        "\n",
        "labels = []\n",
        "texts = []\n",
        "\n",
        "for label_type in ['neg', 'pos']:\n",
        "    dir_name = os.path.join(train_dir, label_type)\n",
        "    for fname in os.listdir(dir_name):\n",
        "        if fname[-4:] == '.txt':\n",
        "            f = open(os.path.join(dir_name, fname))\n",
        "            texts.append(f.read())\n",
        "            f.close()\n",
        "            if label_type == 'neg':\n",
        "                labels.append(0)\n",
        "            else:\n",
        "                labels.append(1)"
      ],
      "execution_count": 0,
      "outputs": []
    },
    {
      "metadata": {
        "id": "iWsFyCEvjqKo",
        "colab_type": "code",
        "colab": {
          "base_uri": "https://localhost:8080/",
          "height": 34
        },
        "outputId": "ae650954-713e-4e16-8330-5afc4c087c27"
      },
      "cell_type": "code",
      "source": [
        "import keras\n",
        "keras.__version__"
      ],
      "execution_count": 36,
      "outputs": [
        {
          "output_type": "execute_result",
          "data": {
            "text/plain": [
              "'2.2.4'"
            ]
          },
          "metadata": {
            "tags": []
          },
          "execution_count": 36
        }
      ]
    },
    {
      "metadata": {
        "id": "oUKmSJl9jqKs",
        "colab_type": "code",
        "colab": {}
      },
      "cell_type": "code",
      "source": [
        "n_data = len(texts)"
      ],
      "execution_count": 0,
      "outputs": []
    },
    {
      "metadata": {
        "id": "Ik_DhEZnjqKv",
        "colab_type": "code",
        "colab": {}
      },
      "cell_type": "code",
      "source": [
        "from keras.preprocessing.text import Tokenizer\n",
        "from keras.preprocessing.sequence import pad_sequences\n",
        "import numpy as np\n",
        "\n",
        "maxlen = 100  # We will cut reviews after 100 words\n",
        "training_samples = int(n_data* 0.8) \n",
        "val_samples = n_data - training_samples\n",
        "max_words = 10000  # We will only consider the top 10,000 words in the dataset"
      ],
      "execution_count": 0,
      "outputs": []
    },
    {
      "metadata": {
        "id": "ERF0wKjgjqKy",
        "colab_type": "code",
        "colab": {
          "base_uri": "https://localhost:8080/",
          "height": 34
        },
        "outputId": "c330e426-734a-4baf-f4c4-266cd88293d6"
      },
      "cell_type": "code",
      "source": [
        "tokenizer = Tokenizer(num_words=max_words)\n",
        "tokenizer.fit_on_texts(texts)\n",
        "sequences = tokenizer.texts_to_sequences(texts)\n",
        "\n",
        "word_index = tokenizer.word_index\n",
        "print('Found %s unique tokens.' % len(word_index))"
      ],
      "execution_count": 39,
      "outputs": [
        {
          "output_type": "stream",
          "text": [
            "Found 88582 unique tokens.\n"
          ],
          "name": "stdout"
        }
      ]
    },
    {
      "metadata": {
        "id": "YtxNoKCijqK3",
        "colab_type": "code",
        "colab": {
          "base_uri": "https://localhost:8080/",
          "height": 51
        },
        "outputId": "5fdb4cbf-d1f8-486c-a9bd-01cac28c4f9f"
      },
      "cell_type": "code",
      "source": [
        "data = pad_sequences(sequences, maxlen=maxlen)\n",
        "\n",
        "labels = np.asarray(labels)\n",
        "print('Shape of data tensor:', data.shape)\n",
        "print('Shape of label tensor:', labels.shape)\n",
        "\n",
        "# Split the data into a training set and a validation set\n",
        "# But first, shuffle the data, since we started from data\n",
        "# where sample are ordered (all negative first, then all positive).\n",
        "indices = np.arange(data.shape[0])\n",
        "np.random.shuffle(indices)\n",
        "data = data[indices]\n",
        "labels = labels[indices]\n",
        "\n",
        "x_train = data[:training_samples]\n",
        "y_train = labels[:training_samples]\n",
        "x_val = data[training_samples: ]\n",
        "y_val = labels[training_samples: ]"
      ],
      "execution_count": 40,
      "outputs": [
        {
          "output_type": "stream",
          "text": [
            "Shape of data tensor: (25000, 100)\n",
            "Shape of label tensor: (25000,)\n"
          ],
          "name": "stdout"
        }
      ]
    },
    {
      "metadata": {
        "id": "-Jd5WLjvjqK-",
        "colab_type": "code",
        "colab": {
          "base_uri": "https://localhost:8080/",
          "height": 34
        },
        "outputId": "2fe82e25-775d-46b1-adc3-d659e7b3003c"
      },
      "cell_type": "code",
      "source": [
        "x_train.shape[0], y_train.shape[0]"
      ],
      "execution_count": 41,
      "outputs": [
        {
          "output_type": "execute_result",
          "data": {
            "text/plain": [
              "(20000, 20000)"
            ]
          },
          "metadata": {
            "tags": []
          },
          "execution_count": 41
        }
      ]
    },
    {
      "metadata": {
        "id": "wkR1eb6zjqLD",
        "colab_type": "code",
        "colab": {
          "base_uri": "https://localhost:8080/",
          "height": 34
        },
        "outputId": "80ac9070-226a-4d3f-e60f-51e530a46cb6"
      },
      "cell_type": "code",
      "source": [
        "x_val.shape[0], y_val.shape[0]"
      ],
      "execution_count": 42,
      "outputs": [
        {
          "output_type": "execute_result",
          "data": {
            "text/plain": [
              "(5000, 5000)"
            ]
          },
          "metadata": {
            "tags": []
          },
          "execution_count": 42
        }
      ]
    },
    {
      "metadata": {
        "id": "xmgZzqOWjqLN",
        "colab_type": "code",
        "colab": {}
      },
      "cell_type": "code",
      "source": [
        "test_dir = os.path.join(imdb_dir, 'test')\n",
        "\n",
        "labels = []\n",
        "texts = []\n",
        "\n",
        "for label_type in ['neg', 'pos']:\n",
        "    dir_name = os.path.join(test_dir, label_type)\n",
        "    for fname in sorted(os.listdir(dir_name)):\n",
        "        if fname[-4:] == '.txt':\n",
        "            f = open(os.path.join(dir_name, fname))\n",
        "            texts.append(f.read())\n",
        "            f.close()\n",
        "            if label_type == 'neg':\n",
        "                labels.append(0)\n",
        "            else:\n",
        "                labels.append(1)\n",
        "\n",
        "sequences = tokenizer.texts_to_sequences(texts)\n",
        "x_test = pad_sequences(sequences, maxlen=maxlen)\n",
        "y_test = np.asarray(labels)"
      ],
      "execution_count": 0,
      "outputs": []
    },
    {
      "metadata": {
        "id": "PgUEilGjjqLS",
        "colab_type": "code",
        "colab": {
          "base_uri": "https://localhost:8080/",
          "height": 34
        },
        "outputId": "195008d3-4ab8-44eb-94ee-fda707abdbaa"
      },
      "cell_type": "code",
      "source": [
        "x_test.shape[0], y_test.shape[0]"
      ],
      "execution_count": 44,
      "outputs": [
        {
          "output_type": "execute_result",
          "data": {
            "text/plain": [
              "(25000, 25000)"
            ]
          },
          "metadata": {
            "tags": []
          },
          "execution_count": 44
        }
      ]
    },
    {
      "metadata": {
        "id": "bk5uIgldjqLa",
        "colab_type": "text"
      },
      "cell_type": "markdown",
      "source": [
        "# Text-Vectorization"
      ]
    },
    {
      "metadata": {
        "id": "r2GgJGrxjqLc",
        "colab_type": "text"
      },
      "cell_type": "markdown",
      "source": [
        "## Word Embedding"
      ]
    },
    {
      "metadata": {
        "id": "cadp6S_RjqLd",
        "colab_type": "text"
      },
      "cell_type": "markdown",
      "source": [
        "### Using pre-trained embedding (Glove)"
      ]
    },
    {
      "metadata": {
        "id": "3v9fIDQKjqLf",
        "colab_type": "code",
        "colab": {
          "base_uri": "https://localhost:8080/",
          "height": 34
        },
        "outputId": "c06c0d3d-6b2f-441a-fc2d-a710f7f2eca7"
      },
      "cell_type": "code",
      "source": [
        "embeddings_index = {}\n",
        "f = open(os.path.join(glove_dir, 'glove.6B.50d.txt'))\n",
        "for line in f:\n",
        "    values = line.split()\n",
        "    word = values[0]\n",
        "    coefs = np.asarray(values[1:], dtype='float32')\n",
        "    embeddings_index[word] = coefs\n",
        "f.close()\n",
        "\n",
        "print('Found %s word vectors.' % len(embeddings_index))"
      ],
      "execution_count": 45,
      "outputs": [
        {
          "output_type": "stream",
          "text": [
            "Found 400000 word vectors.\n"
          ],
          "name": "stdout"
        }
      ]
    },
    {
      "metadata": {
        "id": "ntxM2XutjqLk",
        "colab_type": "code",
        "colab": {}
      },
      "cell_type": "code",
      "source": [
        "embedding_dim = 50\n",
        "\n",
        "embedding_matrix = np.zeros((max_words, embedding_dim))\n",
        "for word, i in word_index.items():\n",
        "    embedding_vector = embeddings_index.get(word)\n",
        "    if i < max_words:\n",
        "        if embedding_vector is not None:\n",
        "            # Words not found in embedding index will be all-zeros.\n",
        "            embedding_matrix[i] = embedding_vector"
      ],
      "execution_count": 0,
      "outputs": []
    },
    {
      "metadata": {
        "id": "CNBEKuBnjqLo",
        "colab_type": "code",
        "colab": {}
      },
      "cell_type": "code",
      "source": [
        "if_using_pretrained = True"
      ],
      "execution_count": 0,
      "outputs": []
    },
    {
      "metadata": {
        "id": "5sUEAUUIjqLt",
        "colab_type": "text"
      },
      "cell_type": "markdown",
      "source": [
        "# CNN "
      ]
    },
    {
      "metadata": {
        "id": "jIHucXIHjqLv",
        "colab_type": "code",
        "colab": {
          "base_uri": "https://localhost:8080/",
          "height": 374
        },
        "outputId": "f01450c7-caec-4d49-e63e-e4562120e89e"
      },
      "cell_type": "code",
      "source": [
        "from keras.models import Sequential\n",
        "from keras.layers import Embedding, Flatten, Dense, Convolution1D, Dropout\n",
        "\n",
        "\n",
        "model_cnn = Sequential()\n",
        "model_cnn.add(Embedding(max_words, embedding_dim, input_length=maxlen))\n",
        "model_cnn.add(Convolution1D(2, 2))\n",
        "model_cnn.add(Convolution1D(2, 3))\n",
        "model_cnn.add(Flatten())\n",
        "model_cnn.add(Dense(32, activation='relu'))\n",
        "model_cnn.add(Dropout(0.2))\n",
        "model_cnn.add(Dense(1, activation='sigmoid'))\n",
        "model_cnn.summary()"
      ],
      "execution_count": 48,
      "outputs": [
        {
          "output_type": "stream",
          "text": [
            "_________________________________________________________________\n",
            "Layer (type)                 Output Shape              Param #   \n",
            "=================================================================\n",
            "embedding_3 (Embedding)      (None, 100, 50)           500000    \n",
            "_________________________________________________________________\n",
            "conv1d_3 (Conv1D)            (None, 99, 2)             202       \n",
            "_________________________________________________________________\n",
            "conv1d_4 (Conv1D)            (None, 97, 2)             14        \n",
            "_________________________________________________________________\n",
            "flatten_2 (Flatten)          (None, 194)               0         \n",
            "_________________________________________________________________\n",
            "dense_4 (Dense)              (None, 32)                6240      \n",
            "_________________________________________________________________\n",
            "dropout_2 (Dropout)          (None, 32)                0         \n",
            "_________________________________________________________________\n",
            "dense_5 (Dense)              (None, 1)                 33        \n",
            "=================================================================\n",
            "Total params: 506,489\n",
            "Trainable params: 506,489\n",
            "Non-trainable params: 0\n",
            "_________________________________________________________________\n"
          ],
          "name": "stdout"
        }
      ]
    },
    {
      "metadata": {
        "id": "OMJCqbpJjqLz",
        "colab_type": "code",
        "colab": {}
      },
      "cell_type": "code",
      "source": [
        "if if_using_pretrained:\n",
        "    model_cnn.layers[0].set_weights([embedding_matrix])\n",
        "    model_cnn.layers[0].trainable = False"
      ],
      "execution_count": 0,
      "outputs": []
    },
    {
      "metadata": {
        "id": "yWShTiNmjqL5",
        "colab_type": "code",
        "colab": {
          "base_uri": "https://localhost:8080/",
          "height": 204
        },
        "outputId": "312149cb-05d2-410e-ed7c-ed02906cef73"
      },
      "cell_type": "code",
      "source": [
        "model_cnn.compile(optimizer='rmsprop',\n",
        "              loss='binary_crossentropy',\n",
        "              metrics=['acc'])\n",
        "history = model_cnn.fit(x_train, y_train,\n",
        "                    epochs=5,\n",
        "                    batch_size=32,\n",
        "                    validation_data=(x_val, y_val))"
      ],
      "execution_count": 50,
      "outputs": [
        {
          "output_type": "stream",
          "text": [
            "Train on 20000 samples, validate on 5000 samples\n",
            "Epoch 1/5\n",
            "20000/20000 [==============================] - 5s 245us/step - loss: 0.6277 - acc: 0.6478 - val_loss: 0.5883 - val_acc: 0.6882\n",
            "Epoch 2/5\n",
            "20000/20000 [==============================] - 4s 225us/step - loss: 0.5698 - acc: 0.7089 - val_loss: 0.5559 - val_acc: 0.7206\n",
            "Epoch 3/5\n",
            "20000/20000 [==============================] - 4s 223us/step - loss: 0.5550 - acc: 0.7174 - val_loss: 0.5501 - val_acc: 0.7256\n",
            "Epoch 4/5\n",
            "20000/20000 [==============================] - 4s 224us/step - loss: 0.5449 - acc: 0.7299 - val_loss: 0.5528 - val_acc: 0.7204\n",
            "Epoch 5/5\n",
            "20000/20000 [==============================] - 4s 220us/step - loss: 0.5405 - acc: 0.7320 - val_loss: 0.5488 - val_acc: 0.7258\n"
          ],
          "name": "stdout"
        }
      ]
    },
    {
      "metadata": {
        "id": "CcXZfdNijqMB",
        "colab_type": "code",
        "colab": {
          "base_uri": "https://localhost:8080/",
          "height": 51
        },
        "outputId": "23db0022-9bf8-48cf-bf6a-3fd3bba1d16e"
      },
      "cell_type": "code",
      "source": [
        "model_cnn.evaluate(x_test, y_test)"
      ],
      "execution_count": 51,
      "outputs": [
        {
          "output_type": "stream",
          "text": [
            "25000/25000 [==============================] - 2s 71us/step\n"
          ],
          "name": "stdout"
        },
        {
          "output_type": "execute_result",
          "data": {
            "text/plain": [
              "[0.556565417470932, 0.7174]"
            ]
          },
          "metadata": {
            "tags": []
          },
          "execution_count": 51
        }
      ]
    },
    {
      "metadata": {
        "id": "4dejS9ZIjqMI",
        "colab_type": "text"
      },
      "cell_type": "markdown",
      "source": [
        "# RNN"
      ]
    },
    {
      "metadata": {
        "id": "6jvuMFucjqMJ",
        "colab_type": "code",
        "colab": {}
      },
      "cell_type": "code",
      "source": [
        "from keras.layers import SimpleRNN"
      ],
      "execution_count": 0,
      "outputs": []
    },
    {
      "metadata": {
        "id": "e6HSh0WujqML",
        "colab_type": "code",
        "colab": {
          "base_uri": "https://localhost:8080/",
          "height": 272
        },
        "outputId": "2c92fe0c-e533-4566-b1c1-a809d610a0f6"
      },
      "cell_type": "code",
      "source": [
        "model_rnn = Sequential()\n",
        "model_rnn.add(Embedding(max_words, embedding_dim, input_length=maxlen))\n",
        "model_rnn.add(SimpleRNN(32, return_sequences=True))\n",
        "model_rnn.add(SimpleRNN(32))  # This last layer only returns the last outputs.\n",
        "model_rnn.add(Dense(1, activation='sigmoid'))\n",
        "model_rnn.summary()"
      ],
      "execution_count": 53,
      "outputs": [
        {
          "output_type": "stream",
          "text": [
            "_________________________________________________________________\n",
            "Layer (type)                 Output Shape              Param #   \n",
            "=================================================================\n",
            "embedding_4 (Embedding)      (None, 100, 50)           500000    \n",
            "_________________________________________________________________\n",
            "simple_rnn_3 (SimpleRNN)     (None, 100, 32)           2656      \n",
            "_________________________________________________________________\n",
            "simple_rnn_4 (SimpleRNN)     (None, 32)                2080      \n",
            "_________________________________________________________________\n",
            "dense_6 (Dense)              (None, 1)                 33        \n",
            "=================================================================\n",
            "Total params: 504,769\n",
            "Trainable params: 504,769\n",
            "Non-trainable params: 0\n",
            "_________________________________________________________________\n"
          ],
          "name": "stdout"
        }
      ]
    },
    {
      "metadata": {
        "id": "2WK7E_RFjqMQ",
        "colab_type": "code",
        "colab": {}
      },
      "cell_type": "code",
      "source": [
        "if if_using_pretrained:\n",
        "    model_rnn.layers[0].set_weights([embedding_matrix])\n",
        "    model_rnn.layers[0].trainable = False"
      ],
      "execution_count": 0,
      "outputs": []
    },
    {
      "metadata": {
        "id": "jNaCQKXsjqMT",
        "colab_type": "code",
        "colab": {
          "base_uri": "https://localhost:8080/",
          "height": 204
        },
        "outputId": "4f1b11ff-054a-495a-d594-8b63f38b8169"
      },
      "cell_type": "code",
      "source": [
        "model_rnn.compile(optimizer='rmsprop', loss='binary_crossentropy', metrics=['acc'])\n",
        "history = model_rnn.fit(x_train, y_train,\n",
        "                    epochs=5,\n",
        "                    batch_size=128,\n",
        "                    validation_data=(x_val, y_val))"
      ],
      "execution_count": 55,
      "outputs": [
        {
          "output_type": "stream",
          "text": [
            "Train on 20000 samples, validate on 5000 samples\n",
            "Epoch 1/5\n",
            "20000/20000 [==============================] - 29s 1ms/step - loss: 0.6717 - acc: 0.5834 - val_loss: 0.6605 - val_acc: 0.6020\n",
            "Epoch 2/5\n",
            "20000/20000 [==============================] - 28s 1ms/step - loss: 0.6291 - acc: 0.6485 - val_loss: 0.6134 - val_acc: 0.6654\n",
            "Epoch 3/5\n",
            "20000/20000 [==============================] - 29s 1ms/step - loss: 0.6046 - acc: 0.6802 - val_loss: 0.6185 - val_acc: 0.6596\n",
            "Epoch 4/5\n",
            "20000/20000 [==============================] - 29s 1ms/step - loss: 0.6098 - acc: 0.6764 - val_loss: 0.6460 - val_acc: 0.6128\n",
            "Epoch 5/5\n",
            "20000/20000 [==============================] - 29s 1ms/step - loss: 0.6005 - acc: 0.6821 - val_loss: 0.6077 - val_acc: 0.6828\n"
          ],
          "name": "stdout"
        }
      ]
    },
    {
      "metadata": {
        "id": "kePQFOV8jqMY",
        "colab_type": "code",
        "colab": {
          "base_uri": "https://localhost:8080/",
          "height": 51
        },
        "outputId": "8f3f0482-1d64-43dc-b4c4-402c9588fa8d"
      },
      "cell_type": "code",
      "source": [
        "model_rnn.evaluate(x_test, y_test)"
      ],
      "execution_count": 56,
      "outputs": [
        {
          "output_type": "stream",
          "text": [
            "25000/25000 [==============================] - 71s 3ms/step\n"
          ],
          "name": "stdout"
        },
        {
          "output_type": "execute_result",
          "data": {
            "text/plain": [
              "[0.6075507773399353, 0.68172]"
            ]
          },
          "metadata": {
            "tags": []
          },
          "execution_count": 56
        }
      ]
    },
    {
      "metadata": {
        "id": "tJouQjfTjqMd",
        "colab_type": "text"
      },
      "cell_type": "markdown",
      "source": [
        "# LSTM"
      ]
    },
    {
      "metadata": {
        "id": "hT_tiyIEjqMe",
        "colab_type": "code",
        "colab": {
          "base_uri": "https://localhost:8080/",
          "height": 238
        },
        "outputId": "d29b57f9-1ec7-48b1-d561-992818e80521"
      },
      "cell_type": "code",
      "source": [
        "from keras.layers import LSTM\n",
        "\n",
        "model_lstm = Sequential()\n",
        "model_lstm.add(Embedding(max_words, embedding_dim, input_length=maxlen))\n",
        "model_lstm.add(LSTM(32))\n",
        "model_lstm.add(Dense(1, activation='sigmoid'))\n",
        "model_lstm.summary()\n"
      ],
      "execution_count": 57,
      "outputs": [
        {
          "output_type": "stream",
          "text": [
            "_________________________________________________________________\n",
            "Layer (type)                 Output Shape              Param #   \n",
            "=================================================================\n",
            "embedding_5 (Embedding)      (None, 100, 50)           500000    \n",
            "_________________________________________________________________\n",
            "lstm_1 (LSTM)                (None, 32)                10624     \n",
            "_________________________________________________________________\n",
            "dense_7 (Dense)              (None, 1)                 33        \n",
            "=================================================================\n",
            "Total params: 510,657\n",
            "Trainable params: 510,657\n",
            "Non-trainable params: 0\n",
            "_________________________________________________________________\n"
          ],
          "name": "stdout"
        }
      ]
    },
    {
      "metadata": {
        "id": "PWGmK_axjqMj",
        "colab_type": "code",
        "colab": {}
      },
      "cell_type": "code",
      "source": [
        "if if_using_pretrained:\n",
        "    model_lstm.layers[0].set_weights([embedding_matrix])\n",
        "    model_lstm.layers[0].trainable = False"
      ],
      "execution_count": 0,
      "outputs": []
    },
    {
      "metadata": {
        "id": "gtN-0PjWjqMm",
        "colab_type": "code",
        "colab": {
          "base_uri": "https://localhost:8080/",
          "height": 204
        },
        "outputId": "9e216ebd-c742-4571-a58c-942dd3d16bcc"
      },
      "cell_type": "code",
      "source": [
        "model_lstm.compile(optimizer='rmsprop',\n",
        "              loss='binary_crossentropy',\n",
        "              metrics=['acc'])\n",
        "history = model_lstm.fit(x_train, y_train,\n",
        "                    epochs=5,\n",
        "                    batch_size=128,\n",
        "                    validation_data=(x_val, y_val))"
      ],
      "execution_count": 59,
      "outputs": [
        {
          "output_type": "stream",
          "text": [
            "Train on 20000 samples, validate on 5000 samples\n",
            "Epoch 1/5\n",
            "20000/20000 [==============================] - 42s 2ms/step - loss: 0.6324 - acc: 0.6398 - val_loss: 0.5824 - val_acc: 0.6956\n",
            "Epoch 2/5\n",
            "20000/20000 [==============================] - 41s 2ms/step - loss: 0.5601 - acc: 0.7149 - val_loss: 0.5944 - val_acc: 0.6890\n",
            "Epoch 3/5\n",
            "20000/20000 [==============================] - 42s 2ms/step - loss: 0.5322 - acc: 0.7327 - val_loss: 0.4930 - val_acc: 0.7646\n",
            "Epoch 4/5\n",
            "20000/20000 [==============================] - 42s 2ms/step - loss: 0.5095 - acc: 0.7507 - val_loss: 0.5800 - val_acc: 0.6946\n",
            "Epoch 5/5\n",
            "20000/20000 [==============================] - 41s 2ms/step - loss: 0.4891 - acc: 0.7644 - val_loss: 0.4791 - val_acc: 0.7736\n"
          ],
          "name": "stdout"
        }
      ]
    },
    {
      "metadata": {
        "id": "MIeHWxNKjqMs",
        "colab_type": "code",
        "colab": {
          "base_uri": "https://localhost:8080/",
          "height": 51
        },
        "outputId": "41917488-391f-4404-ca03-79f646268734"
      },
      "cell_type": "code",
      "source": [
        "model_lstm.evaluate(x_test, y_test)"
      ],
      "execution_count": 60,
      "outputs": [
        {
          "output_type": "stream",
          "text": [
            "25000/25000 [==============================] - 76s 3ms/step\n"
          ],
          "name": "stdout"
        },
        {
          "output_type": "execute_result",
          "data": {
            "text/plain": [
              "[0.4908424217987061, 0.761]"
            ]
          },
          "metadata": {
            "tags": []
          },
          "execution_count": 60
        }
      ]
    },
    {
      "metadata": {
        "id": "eShYJjm8jqMy",
        "colab_type": "code",
        "colab": {}
      },
      "cell_type": "code",
      "source": [
        ""
      ],
      "execution_count": 0,
      "outputs": []
    }
  ]
}